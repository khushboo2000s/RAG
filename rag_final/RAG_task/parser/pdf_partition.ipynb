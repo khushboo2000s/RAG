{
 "cells": [
  {
   "cell_type": "code",
   "execution_count": 1,
   "metadata": {},
   "outputs": [],
   "source": [
    "import serpapi"
   ]
  },
  {
   "cell_type": "code",
   "execution_count": 2,
   "metadata": {},
   "outputs": [
    {
     "name": "stdout",
     "output_type": "stream",
     "text": [
      "['APIKeyNotProvided', 'Client', 'HTTPClient', 'HTTPConnectionError', 'HTTPError', 'SearchIDNotProvided', 'SerpApiError', 'SerpResults', '__builtins__', '__cached__', '__doc__', '__file__', '__loader__', '__name__', '__package__', '__path__', '__spec__', '__version__', 'account', 'core', 'exceptions', 'http', 'locations', 'models', 'requests', 'search', 'search_archive', 'textui']\n"
     ]
    }
   ],
   "source": [
    "print(dir(serpapi))"
   ]
  },
  {
   "cell_type": "code",
   "execution_count": 3,
   "metadata": {},
   "outputs": [
    {
     "name": "stdout",
     "output_type": "stream",
     "text": [
      "['__call__', '__class__', '__delattr__', '__dir__', '__doc__', '__eq__', '__format__', '__func__', '__ge__', '__get__', '__getattribute__', '__gt__', '__hash__', '__init__', '__init_subclass__', '__le__', '__lt__', '__ne__', '__new__', '__reduce__', '__reduce_ex__', '__repr__', '__self__', '__setattr__', '__sizeof__', '__str__', '__subclasshook__']\n"
     ]
    }
   ],
   "source": [
    "from serpapi import search\n",
    "print(dir(search))"
   ]
  },
  {
   "cell_type": "code",
   "execution_count": 7,
   "metadata": {},
   "outputs": [
    {
     "ename": "ImportError",
     "evalue": "cannot import name 'GoogleSearch' from 'serpapi' (d:\\Genai_project\\Retrieval Augmented Generation\\RAG\\lib\\site-packages\\serpapi\\__init__.py)",
     "output_type": "error",
     "traceback": [
      "\u001b[1;31m---------------------------------------------------------------------------\u001b[0m",
      "\u001b[1;31mImportError\u001b[0m                               Traceback (most recent call last)",
      "Cell \u001b[1;32mIn[7], line 1\u001b[0m\n\u001b[1;32m----> 1\u001b[0m \u001b[38;5;28;01mfrom\u001b[39;00m \u001b[38;5;21;01mserpapi\u001b[39;00m \u001b[38;5;28;01mimport\u001b[39;00m GoogleSearch\n\u001b[0;32m      3\u001b[0m \u001b[38;5;66;03m# Set up the search parameters\u001b[39;00m\n\u001b[0;32m      4\u001b[0m params \u001b[38;5;241m=\u001b[39m {\n\u001b[0;32m      5\u001b[0m     \u001b[38;5;124m\"\u001b[39m\u001b[38;5;124mq\u001b[39m\u001b[38;5;124m\"\u001b[39m: \u001b[38;5;124m\"\u001b[39m\u001b[38;5;124mserpapi\u001b[39m\u001b[38;5;124m\"\u001b[39m,\n\u001b[0;32m      6\u001b[0m     \u001b[38;5;124m\"\u001b[39m\u001b[38;5;124mapi_key\u001b[39m\u001b[38;5;124m\"\u001b[39m: \u001b[38;5;124m\"\u001b[39m\u001b[38;5;124m654d1b4ac218345d7a392dbe045d0b140f589482ff5e69a87f4aa1c853164418\u001b[39m\u001b[38;5;124m\"\u001b[39m,  \u001b[38;5;66;03m# Replace with your actual API key\u001b[39;00m\n\u001b[0;32m      7\u001b[0m }\n",
      "\u001b[1;31mImportError\u001b[0m: cannot import name 'GoogleSearch' from 'serpapi' (d:\\Genai_project\\Retrieval Augmented Generation\\RAG\\lib\\site-packages\\serpapi\\__init__.py)"
     ]
    }
   ],
   "source": [
    "from serpapi import GoogleSearch\n",
    "\n",
    "# Set up the search parameters\n",
    "params = {\n",
    "    \"q\": \"serpapi\",\n",
    "    \"api_key\": \"\",  # Replace with your actual API key\n",
    "}\n",
    "\n",
    "# Perform the search\n",
    "search = GoogleSearch(params)\n",
    "results = search.get_dict()  # Retrieve the results as a dictionary\n",
    "\n",
    "# Print the search results\n",
    "print(results)\n",
    "\n"
   ]
  },
  {
   "cell_type": "code",
   "execution_count": 8,
   "metadata": {},
   "outputs": [
    {
     "ename": "ImportError",
     "evalue": "cannot import name 'GoogleSearch' from 'serpapi' (d:\\Genai_project\\Retrieval Augmented Generation\\RAG\\lib\\site-packages\\serpapi\\__init__.py)",
     "output_type": "error",
     "traceback": [
      "\u001b[1;31m---------------------------------------------------------------------------\u001b[0m",
      "\u001b[1;31mImportError\u001b[0m                               Traceback (most recent call last)",
      "Cell \u001b[1;32mIn[8], line 1\u001b[0m\n\u001b[1;32m----> 1\u001b[0m \u001b[38;5;28;01mfrom\u001b[39;00m \u001b[38;5;21;01mserpapi\u001b[39;00m \u001b[38;5;28;01mimport\u001b[39;00m GoogleSearch\n\u001b[0;32m      2\u001b[0m \u001b[38;5;28mprint\u001b[39m(\u001b[38;5;28mdir\u001b[39m(GoogleSearch))\n",
      "\u001b[1;31mImportError\u001b[0m: cannot import name 'GoogleSearch' from 'serpapi' (d:\\Genai_project\\Retrieval Augmented Generation\\RAG\\lib\\site-packages\\serpapi\\__init__.py)"
     ]
    }
   ],
   "source": [
    "from serpapi import GoogleSearch\n",
    "print(dir(GoogleSearch))"
   ]
  },
  {
   "cell_type": "code",
   "execution_count": 1,
   "metadata": {},
   "outputs": [
    {
     "name": "stdout",
     "output_type": "stream",
     "text": [
      "^C\n",
      "Note: you may need to restart the kernel to use updated packages.\n"
     ]
    }
   ],
   "source": [
    "pip uninstall serpapi\n"
   ]
  },
  {
   "cell_type": "code",
   "execution_count": 2,
   "metadata": {},
   "outputs": [
    {
     "name": "stdout",
     "output_type": "stream",
     "text": [
      "^C\n",
      "Note: you may need to restart the kernel to use updated packages.\n"
     ]
    },
    {
     "name": "stdout",
     "output_type": "stream",
     "text": [
      "Requirement already satisfied: serpapi in d:\\genai_project\\retrieval augmented generation\\rag\\lib\\site-packages (0.1.5)\n",
      "Requirement already satisfied: requests in d:\\genai_project\\retrieval augmented generation\\rag\\lib\\site-packages (from serpapi) (2.32.3)\n",
      "Requirement already satisfied: charset-normalizer<4,>=2 in d:\\genai_project\\retrieval augmented generation\\rag\\lib\\site-packages (from requests->serpapi) (3.3.2)\n",
      "Requirement already satisfied: idna<4,>=2.5 in d:\\genai_project\\retrieval augmented generation\\rag\\lib\\site-packages (from requests->serpapi) (3.8)\n",
      "Requirement already satisfied: urllib3<3,>=1.21.1 in d:\\genai_project\\retrieval augmented generation\\rag\\lib\\site-packages (from requests->serpapi) (2.2.2)\n",
      "Requirement already satisfied: certifi>=2017.4.17 in d:\\genai_project\\retrieval augmented generation\\rag\\lib\\site-packages (from requests->serpapi) (2024.8.30)\n"
     ]
    }
   ],
   "source": [
    "pip install serpapi\n"
   ]
  },
  {
   "cell_type": "code",
   "execution_count": null,
   "metadata": {},
   "outputs": [],
   "source": []
  }
 ],
 "metadata": {
  "kernelspec": {
   "display_name": "Python 3",
   "language": "python",
   "name": "python3"
  },
  "language_info": {
   "codemirror_mode": {
    "name": "ipython",
    "version": 3
   },
   "file_extension": ".py",
   "mimetype": "text/x-python",
   "name": "python",
   "nbconvert_exporter": "python",
   "pygments_lexer": "ipython3",
   "version": "3.10.14"
  }
 },
 "nbformat": 4,
 "nbformat_minor": 2
}
